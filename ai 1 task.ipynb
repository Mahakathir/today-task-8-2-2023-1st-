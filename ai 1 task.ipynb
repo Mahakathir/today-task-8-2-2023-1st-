{
 "cells": [
  {
   "cell_type": "code",
   "execution_count": 1,
   "id": "19e31adf",
   "metadata": {},
   "outputs": [],
   "source": [
    "import cv2 as a"
   ]
  },
  {
   "cell_type": "code",
   "execution_count": 2,
   "id": "0cf119ac",
   "metadata": {},
   "outputs": [],
   "source": [
    "im=a.imread(\"in.jpg\")"
   ]
  },
  {
   "cell_type": "code",
   "execution_count": 4,
   "id": "5a0e69df",
   "metadata": {},
   "outputs": [],
   "source": [
    "b=a.blur(im,(5,5))"
   ]
  },
  {
   "cell_type": "code",
   "execution_count": 6,
   "id": "6fa250c2",
   "metadata": {},
   "outputs": [],
   "source": [
    "gau=a.GaussianBlur(im,(5,5),5)"
   ]
  },
  {
   "cell_type": "code",
   "execution_count": 8,
   "id": "9d2ea4c2",
   "metadata": {},
   "outputs": [],
   "source": [
    "med=a.medianBlur(im,9)"
   ]
  },
  {
   "cell_type": "code",
   "execution_count": 9,
   "id": "0c2085ae",
   "metadata": {},
   "outputs": [],
   "source": [
    "bilate=a.bilateralFilter(im,50,50,20)"
   ]
  },
  {
   "cell_type": "code",
   "execution_count": 10,
   "id": "e727e92a",
   "metadata": {},
   "outputs": [],
   "source": [
    "a.imshow(\"im\",im)\n",
    "a.waitKey(0)\n",
    "a.destroyAllWindows()\n",
    "a.imshow(\"blur\",b)\n",
    "a.waitKey(0)\n",
    "a.destroyAllWindows()\n",
    "a.imshow(\"gau\",gau)\n",
    "a.waitKey(0)\n",
    "a.destroyAllWindows()\n",
    "a.imshow(\"median\",med)\n",
    "a.waitKey(0)\n",
    "a.destroyAllWindows()\n",
    "a.imshow(\"bilateral\",bilate)\n",
    "a.waitKey(0)\n",
    "a.destroyAllWindows()"
   ]
  },
  {
   "cell_type": "code",
   "execution_count": 12,
   "id": "66ca2711",
   "metadata": {},
   "outputs": [
    {
     "data": {
      "text/plain": [
       "True"
      ]
     },
     "execution_count": 12,
     "metadata": {},
     "output_type": "execute_result"
    }
   ],
   "source": [
    "a.imwrite(\"blur.jpg\",b)"
   ]
  },
  {
   "cell_type": "code",
   "execution_count": 13,
   "id": "d190ec34",
   "metadata": {},
   "outputs": [
    {
     "data": {
      "text/plain": [
       "True"
      ]
     },
     "execution_count": 13,
     "metadata": {},
     "output_type": "execute_result"
    }
   ],
   "source": [
    "a.imwrite(\"gaussian.jpg\",gau)"
   ]
  },
  {
   "cell_type": "code",
   "execution_count": 14,
   "id": "a0701771",
   "metadata": {},
   "outputs": [
    {
     "data": {
      "text/plain": [
       "True"
      ]
     },
     "execution_count": 14,
     "metadata": {},
     "output_type": "execute_result"
    }
   ],
   "source": [
    "a.imwrite(\"median blur.jpg\",med)"
   ]
  },
  {
   "cell_type": "code",
   "execution_count": 15,
   "id": "e960c478",
   "metadata": {},
   "outputs": [
    {
     "data": {
      "text/plain": [
       "True"
      ]
     },
     "execution_count": 15,
     "metadata": {},
     "output_type": "execute_result"
    }
   ],
   "source": [
    "a.imwrite(\"bilateral.jpg\",bilate)"
   ]
  },
  {
   "cell_type": "code",
   "execution_count": null,
   "id": "9fe2e5d3",
   "metadata": {},
   "outputs": [],
   "source": []
  }
 ],
 "metadata": {
  "kernelspec": {
   "display_name": "Python 3 (ipykernel)",
   "language": "python",
   "name": "python3"
  },
  "language_info": {
   "codemirror_mode": {
    "name": "ipython",
    "version": 3
   },
   "file_extension": ".py",
   "mimetype": "text/x-python",
   "name": "python",
   "nbconvert_exporter": "python",
   "pygments_lexer": "ipython3",
   "version": "3.9.15"
  }
 },
 "nbformat": 4,
 "nbformat_minor": 5
}
